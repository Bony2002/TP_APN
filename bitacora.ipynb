{
 "cells": [
  {
   "cell_type": "markdown",
   "metadata": {},
   "source": [
    "Dia 1 27/8 : En el dia de hoy vamos a plantearnos como definimos a los autos. Estamos defininendo como los autos entran a la autopista y que atributos tienen los autos.\n",
    "\n",
    "La idea principal que tuvimos fue hacer que la carretera sea una lista enlazada.\n",
    "\n",
    "Cada t es un segundo o medio segundo?\n",
    "\n",
    "di=[vi-1]*t + (a[i-1])/2*t²\n",
    "\n",
    "tenemos que plantear la idea del umbral de distancia entre los 2 autos.\n",
    "\n",
    "Que se hace cuando se choca?\n",
    "\n",
    "podemos poner un cooldown para removerlos."
   ]
  },
  {
   "cell_type": "markdown",
   "metadata": {},
   "source": [
    "Dia 2: La idea de hoy es calcular como cambia la aceleracion de los autos.\n",
    "\n",
    "Estuvimos revisando varios papers que explican como varia el modelo de aceleracion del auto."
   ]
  }
 ],
 "metadata": {
  "language_info": {
   "name": "python"
  },
  "orig_nbformat": 4
 },
 "nbformat": 4,
 "nbformat_minor": 2
}
