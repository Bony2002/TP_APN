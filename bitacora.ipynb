{
 "cells": [
  {
   "cell_type": "markdown",
   "metadata": {},
   "source": [
    "Dia 1 27/8 : En el dia de hoy vamos a plantearnos como definimos a los autos. Estamos defininendo como los autos entran a la autopista y que atributos tienen los autos.\n",
    "\n",
    "La idea principal que tuvimos fue hacer que la carretera sea una lista enlazada.\n",
    "\n",
    "Cada t es un segundo o medio segundo?\n",
    "\n",
    "di=[vi-1]*t + (a[i-1])/2*t²\n",
    "\n",
    "tenemos que plantear la idea del umbral de distancia entre los 2 autos.\n",
    "\n",
    "Que se hace cuando se choca?\n",
    "\n",
    "podemos poner un cooldown para removerlos."
   ]
  },
  {
   "cell_type": "markdown",
   "metadata": {},
   "source": [
    "Dia 2: La idea de hoy es calcular como cambia la aceleracion de los autos.\n",
    "\n",
    "Estuvimos revisando varios papers que explican como varia el modelo de aceleracion del auto.\n",
    "\n",
    "Finalmente llegamos a concluir que la formula de aceleración que vamos a utilizar es la del siguiente papaer:https://traffic-simulation.de/info/info_IDM.html\n",
    "\n",
    "Donde la función se escribe de la siguiente manera:\n",
    "\n",
    "$acl = acl_{max}*(1 - (\\frac{v}{v_0})^4 - \\frac{s^*}{s})$\n",
    "\n",
    "This formula represents a simplified relationship between the desired distance and the time gap that drivers aim to maintain.\n",
    "\n",
    "$s^* = T*v_l$"
   ]
  },
  {
   "cell_type": "markdown",
   "metadata": {},
   "source": [
    "Dia 3: Estamos intentando agregar ruido a la aceleracion para agregar la incertidumbre dentro del manejo. Ademas intentaremos mejorar la clase autopista para poder hacer analisis. Le agregamos un ID a cada auto para saber identficarlos y trataremos de modelar la probabilidad de entrar a la autopista\n",
    "\n",
    "Analisis del choque."
   ]
  }
 ],
 "metadata": {
  "kernelspec": {
   "display_name": "base",
   "language": "python",
   "name": "python3"
  },
  "language_info": {
   "codemirror_mode": {
    "name": "ipython",
    "version": 3
   },
   "file_extension": ".py",
   "mimetype": "text/x-python",
   "name": "python",
   "nbconvert_exporter": "python",
   "pygments_lexer": "ipython3",
   "version": "3.9.13"
  },
  "orig_nbformat": 4
 },
 "nbformat": 4,
 "nbformat_minor": 2
}
